{
 "cells": [
  {
   "cell_type": "code",
   "execution_count": 8,
   "metadata": {},
   "outputs": [],
   "source": [
    "import pandas as pd\n",
    "\n",
    "# Read the Label.csv file\n",
    "labels = pd.read_csv('../data/CICD/Label.csv')\n",
    "# Read the Data.csv file\n",
    "data = pd.read_csv('../data/CICD/Data.csv')\n"
   ]
  },
  {
   "cell_type": "code",
   "execution_count": 9,
   "metadata": {},
   "outputs": [
    {
     "name": "stdout",
     "output_type": "stream",
     "text": [
      "Training set shape: (358332, 76)\n",
      "Testing set shape: (89583, 76)\n",
      "Training labels shape: (358332,)\n",
      "Testing labels shape: (89583,)\n"
     ]
    }
   ],
   "source": [
    "#Train/test split\n",
    "from sklearn.model_selection import train_test_split\n",
    "\n",
    "# Create X (features) and y (target)\n",
    "X = data\n",
    "y = labels['Label']\n",
    "\n",
    "# Create train/test split with 80% training and 20% testing\n",
    "X_train, X_test, y_train, y_test = train_test_split(X, y, test_size=0.2, random_state=42, stratify=y)\n",
    "\n",
    "# Print the shapes of the resulting splits\n",
    "print(\"Training set shape:\", X_train.shape)\n",
    "print(\"Testing set shape:\", X_test.shape)\n",
    "print(\"Training labels shape:\", y_train.shape)\n",
    "print(\"Testing labels shape:\", y_test.shape)"
   ]
  },
  {
   "cell_type": "code",
   "execution_count": 10,
   "metadata": {},
   "outputs": [
    {
     "name": "stdout",
     "output_type": "stream",
     "text": [
      "\n",
      "Decision Tree:\n",
      "Accuracy: 0.9063\n",
      "Training time: 7.94 seconds\n",
      "Inference time: 0.15 seconds\n",
      "\n",
      "Random Forest:\n",
      "Accuracy: 0.9317\n",
      "Training time: 9.43 seconds\n",
      "Inference time: 0.19 seconds\n",
      "\n",
      "KNN:\n",
      "Accuracy: 0.9202\n",
      "Training time: 0.28 seconds\n",
      "Inference time: 34.84 seconds\n",
      "\n",
      "Logistic Regression:\n",
      "Accuracy: 0.8490\n",
      "Training time: 151.86 seconds\n",
      "Inference time: 0.07 seconds\n",
      "\n",
      "Best model: Random Forest\n",
      "Accuracy: 0.9317\n",
      "Training time: 9.43 seconds\n"
     ]
    },
    {
     "name": "stderr",
     "output_type": "stream",
     "text": [
      "/home/roberto/ML-IDS/.venv/lib/python3.12/site-packages/sklearn/linear_model/_logistic.py:465: ConvergenceWarning: lbfgs failed to converge (status=1):\n",
      "STOP: TOTAL NO. OF ITERATIONS REACHED LIMIT.\n",
      "\n",
      "Increase the number of iterations (max_iter) or scale the data as shown in:\n",
      "    https://scikit-learn.org/stable/modules/preprocessing.html\n",
      "Please also refer to the documentation for alternative solver options:\n",
      "    https://scikit-learn.org/stable/modules/linear_model.html#logistic-regression\n",
      "  n_iter_i = _check_optimize_result(\n"
     ]
    }
   ],
   "source": [
    "from sklearn.pipeline import Pipeline\n",
    "import numpy as np\n",
    "\n",
    "# Import needed additional libraries\n",
    "from sklearn.tree import DecisionTreeClassifier\n",
    "from sklearn.ensemble import RandomForestClassifier\n",
    "from sklearn.neighbors import KNeighborsClassifier\n",
    "from sklearn.linear_model import LogisticRegression\n",
    "from sklearn.preprocessing import StandardScaler\n",
    "from sklearn.model_selection import train_test_split\n",
    "from time import time\n",
    "\n",
    "# Create pipeline with data transformations and model selection\n",
    "def evaluate_model(model, X_train, X_test, y_train, y_test):\n",
    "    start = time()\n",
    "    model.fit(X_train, y_train)\n",
    "    train_time = time() - start\n",
    "    \n",
    "    start = time()\n",
    "    accuracy = model.score(X_test, y_test)\n",
    "    inference_time = time() - start\n",
    "    \n",
    "    return accuracy, train_time, inference_time\n",
    "\n",
    "# Create simple pipelines for each model type\n",
    "pipelines = {\n",
    "    'Decision Tree': Pipeline([\n",
    "        ('clf', DecisionTreeClassifier(max_depth=20, class_weight='balanced', random_state=42))\n",
    "    ]),\n",
    "    'Random Forest': Pipeline([\n",
    "        ('clf', RandomForestClassifier(n_estimators=100, max_depth=20, class_weight='balanced', random_state=42, n_jobs=-1))\n",
    "    ]),\n",
    "    'KNN': Pipeline([\n",
    "        ('clf', KNeighborsClassifier(n_neighbors=5, n_jobs=-1))\n",
    "    ]),\n",
    "    'Logistic Regression': Pipeline([\n",
    "        ('clf', LogisticRegression(max_iter=1000, class_weight='balanced', random_state=42, n_jobs=-1))\n",
    "    ])\n",
    "}\n",
    "\n",
    "# Evaluate all models\n",
    "results = {}\n",
    "for name, pipeline in pipelines.items():\n",
    "    accuracy, train_time, inference_time = evaluate_model(pipeline, X_train_scaled, X_test_scaled, y_train, y_test)\n",
    "    results[name] = {\n",
    "        'accuracy': accuracy,\n",
    "        'training_time': train_time,\n",
    "        'inference_time': inference_time\n",
    "    }\n",
    "    print(f\"\\n{name}:\")\n",
    "    print(f\"Accuracy: {accuracy:.4f}\")\n",
    "    print(f\"Training time: {train_time:.2f} seconds\")\n",
    "    print(f\"Inference time: {inference_time:.2f} seconds\")\n",
    "\n",
    "# Find best model\n",
    "best_model = max(results.items(), key=lambda x: x[1]['accuracy'])\n",
    "print(f\"\\nBest model: {best_model[0]}\")\n",
    "print(f\"Accuracy: {best_model[1]['accuracy']:.4f}\")\n",
    "print(f\"Training time: {best_model[1]['training_time']:.2f} seconds\")"
   ]
  },
  {
   "cell_type": "code",
   "execution_count": null,
   "metadata": {},
   "outputs": [
    {
     "name": "stdout",
     "output_type": "stream",
     "text": [
      "\n",
      "Gradient Boosting:\n",
      "Accuracy: 0.9305\n",
      "Training time: 2304.77 seconds\n",
      "Inference time: 1.93 seconds\n"
     ]
    }
   ],
   "source": [
    "from sklearn.ensemble import GradientBoostingClassifier\n",
    "from sklearn.svm import LinearSVC\n",
    "\n",
    "# Import additional models\n",
    "\n",
    "# Add more models to the pipeline dictionary\n",
    "pipelines.update({\n",
    "    'Gradient Boosting': Pipeline([\n",
    "        ('clf', GradientBoostingClassifier(n_estimators=100, random_state=42))\n",
    "    ]),\n",
    "    'Linear SVC': Pipeline([\n",
    "        ('clf', LinearSVC(max_iter=2000, random_state=42))\n",
    "    ])\n",
    "})\n",
    "\n",
    "# Evaluate additional models\n",
    "for name in ['Gradient Boosting', 'Linear SVC']:\n",
    "    accuracy, train_time, inference_time = evaluate_model(pipelines[name], X_train_scaled, X_test_scaled, y_train, y_test)\n",
    "    results[name] = {\n",
    "        'accuracy': accuracy,\n",
    "        'training_time': train_time,\n",
    "        'inference_time': inference_time\n",
    "    }\n",
    "    print(f\"\\n{name}:\")\n",
    "    print(f\"Accuracy: {accuracy:.4f}\")\n",
    "    print(f\"Training time: {train_time:.2f} seconds\")\n",
    "    print(f\"Inference time: {inference_time:.2f} seconds\")\n",
    "\n",
    "# Find best model including new models\n",
    "best_model = max(results.items(), key=lambda x: x[1]['accuracy'])\n",
    "print(f\"\\nBest model overall: {best_model[0]}\")\n",
    "print(f\"Accuracy: {best_model[1]['accuracy']:.4f}\")\n",
    "print(f\"Training time: {best_model[1]['training_time']:.2f} seconds\")"
   ]
  }
 ],
 "metadata": {
  "kernelspec": {
   "display_name": ".venv",
   "language": "python",
   "name": "python3"
  },
  "language_info": {
   "codemirror_mode": {
    "name": "ipython",
    "version": 3
   },
   "file_extension": ".py",
   "mimetype": "text/x-python",
   "name": "python",
   "nbconvert_exporter": "python",
   "pygments_lexer": "ipython3",
   "version": "3.12.3"
  }
 },
 "nbformat": 4,
 "nbformat_minor": 2
}

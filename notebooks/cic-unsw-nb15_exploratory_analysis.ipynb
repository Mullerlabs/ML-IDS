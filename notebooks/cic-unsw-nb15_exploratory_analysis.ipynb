{
 "cells": [
  {
   "cell_type": "code",
   "execution_count": 3,
   "metadata": {},
   "outputs": [
    {
     "name": "stdout",
     "output_type": "stream",
     "text": [
      "Distribución de etiquetas (%):\n",
      "Label\n",
      "0    80.000000\n",
      "4     6.910016\n",
      "5     6.611299\n",
      "7     3.736200\n",
      "6     1.034125\n",
      "3     0.997287\n",
      "8     0.469285\n",
      "2     0.100912\n",
      "1     0.085954\n",
      "9     0.054921\n",
      "Name: proportion, dtype: float64\n"
     ]
    }
   ],
   "source": [
    "\n",
    "import pandas as pd\n",
    "\n",
    "labels = pd.read_csv('../data/CICD/Label.csv')\n",
    "distribucion = labels['Label'].value_counts(normalize=True) * 100\n",
    "print(\"Distribución de etiquetas (%):\")\n",
    "print(distribucion)\n",
    "\n",
    "\n"
   ]
  }
 ],
 "metadata": {
  "kernelspec": {
   "display_name": ".venv",
   "language": "python",
   "name": "python3"
  },
  "language_info": {
   "codemirror_mode": {
    "name": "ipython",
    "version": 3
   },
   "file_extension": ".py",
   "mimetype": "text/x-python",
   "name": "python",
   "nbconvert_exporter": "python",
   "pygments_lexer": "ipython3",
   "version": "3.12.3"
  }
 },
 "nbformat": 4,
 "nbformat_minor": 2
}

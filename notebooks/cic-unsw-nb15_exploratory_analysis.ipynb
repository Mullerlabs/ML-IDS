{
 "cells": [
  {
   "cell_type": "code",
   "execution_count": null,
   "metadata": {},
   "outputs": [],
   "source": [
    "import pandas as pd\n",
    "\n",
    "# Read the Label.csv file\n",
    "labels = pd.read_csv('../data/CICD/Label.csv')\n",
    "distribution = labels['Label'].value_counts(normalize=True) * 100\n",
    "print(\"Label distribution (%):\")\n",
    "print(distribution)\n",
    "\n",
    "\n",
    "# Read the Data.csv file\n",
    "data = pd.read_csv('../data/CICD/Data.csv')\n",
    "\n",
    "# Show information\n",
    "print(\"\\nDataset Information:\")\n",
    "print(data.info())\n",
    "\n",
    "# Show descriptive statistics\n",
    "print(\"\\nDescriptive statistics:\")\n",
    "print(data.describe())\n",
    "\n",
    "# Show first rows\n",
    "print(\"\\nFirst rows:\")\n",
    "print(data.head())\n",
    "\n",
    "# Show dimensions\n",
    "print(f\"\\nDataset dimensions: {data.shape[0]} rows x {data.shape[1]} columns\")\n",
    "\n"
   ]
  },
  {
   "cell_type": "code",
   "execution_count": null,
   "metadata": {},
   "outputs": [],
   "source": [
    "#Histogram of the first 35 features\n",
    "import matplotlib.pyplot as plt\n",
    "data.iloc[:, :35].hist(bins=50, figsize=(20,15))\n",
    "plt.show()"
   ]
  },
  {
   "cell_type": "code",
   "execution_count": null,
   "metadata": {},
   "outputs": [],
   "source": [
    "# Histogram of the remaining features (from index 35 to the end)\n",
    "data.iloc[:, 35:].hist(bins=50, figsize=(20,15))\n",
    "plt.show()"
   ]
  },
  {
   "cell_type": "code",
   "execution_count": null,
   "metadata": {},
   "outputs": [],
   "source": []
  }
 ],
 "metadata": {
  "kernelspec": {
   "display_name": ".venv",
   "language": "python",
   "name": "python3"
  },
  "language_info": {
   "codemirror_mode": {
    "name": "ipython",
    "version": 3
   },
   "file_extension": ".py",
   "mimetype": "text/x-python",
   "name": "python",
   "nbconvert_exporter": "python",
   "pygments_lexer": "ipython3",
   "version": "3.12.3"
  }
 },
 "nbformat": 4,
 "nbformat_minor": 2
}
